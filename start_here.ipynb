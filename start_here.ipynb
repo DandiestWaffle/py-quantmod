{
  "cells": [
    {
      "cell_type": "markdown",
      "source": [
        "# py-Quantmod | 5 minute intro\n",
        "\n\n",
        "Powerful financial charting library based on R's Quantmod \n",
        "\n",
        "Documentation at:\n",
        "http://py-quantmod.readthedocs.io/en/latest/\n"
      ],
      "metadata": {}
    },
    {
      "cell_type": "markdown",
      "source": [
        "### Make your first Quantmod chart"
      ],
      "metadata": {}
    },
    {
      "cell_type": "code",
      "source": [
        "import quantmod as qm\n",
        "ch = qm.get_symbol('QQQ', start='01/01/2016')\n",
        "\n",
        "ch.add_EMA(9)\n",
        "ch.add_RSI(14)\n",
        "ch.iplot()"
      ],
      "outputs": [
        {
          "output_type": "execute_result",
          "execution_count": 7,
          "data": {
            "text/plain": [
              "<plotly.tools.PlotlyDisplay object>"
            ],
            "text/html": [
              "<iframe id=\"igraph\" scrolling=\"no\" style=\"border:none;\" seamless=\"seamless\" src=\"https://plot.ly/~jackluo/3338.embed\" height=\"500px\" width=\"1080px\"></iframe>"
            ]
          },
          "metadata": {}
        }
      ],
      "execution_count": 7,
      "metadata": {
        "collapsed": false,
        "outputHidden": false,
        "inputHidden": false
      }
    },
    {
      "cell_type": "markdown",
      "source": [
        "### Versus native Plotly + Pandas + Talib"
      ],
      "metadata": {}
    },
    {
      "cell_type": "code",
      "source": [
        "import pandas as pd\n",
        "import pandas_datareader as web\n",
        "import plotly.plotly as py\n",
        "import talib\n",
        "\n",
        "df = web.DataReader('QQQ', start='01/01/2016', data_source='yahoo')\n",
        "\n",
        "trace1 = dict(\n",
        "    type = 'candlestick',\n",
        "    x = df.index,\n",
        "    y = df['Close'],\n",
        ")\n",
        "\n",
        "ma = df['close'].rolling.mean(9)\n",
        "rsi = talib.RSI(df['close'].values, 14)\n",
        "rsi = pd.Series(rsi)\n",
        "\n",
        "trace2 = dict(\n",
        "    type = 'line',\n",
        "    x = df.index,\n",
        "    y = ma,\n",
        "    line = dict(color='blue'),\n",
        "    y = 'y',\n",
        ")\n",
        "\n",
        "trace4 = dict(\n",
        "    type = 'line',\n",
        "    x = df.index,\n",
        "    y = rsi,\n",
        "    line = dict(color='blue'),\n",
        "    y = 'y3',\n",
        ")\n",
        "\n",
        "data = [trace1, trace2, trace3, trace4]\n",
        "\n",
        "layout = dict(\n",
        "    title = 'QQQ',\n",
        "    bgcolor = 'F5F5F5',\n",
        "    plotcolor = 'FFFFFF',\n",
        "    margin = dict(\n",
        "        l = 40,\n",
        "        r = 40,\n",
        "        b = 40,\n",
        "        t = 40,\n",
        "    )\n",
        ")"
      ],
      "outputs": [],
      "execution_count": 11,
      "metadata": {
        "collapsed": false,
        "outputHidden": false,
        "inputHidden": false
      }
    },
    {
      "cell_type": "code",
      "source": [],
      "outputs": [],
      "execution_count": null,
      "metadata": {
        "collapsed": false,
        "outputHidden": false,
        "inputHidden": false
      }
    }
  ],
  "metadata": {
    "kernelspec": {
      "name": "python3",
      "language": "python",
      "display_name": "Python 3"
    },
    "kernel_info": {
      "name": "python3"
    },
    "language_info": {
      "name": "python",
      "version": "3.6.0",
      "mimetype": "text/x-python",
      "codemirror_mode": {
        "name": "ipython",
        "version": 3
      },
      "pygments_lexer": "ipython3",
      "nbconvert_exporter": "python",
      "file_extension": ".py"
    }
  },
  "nbformat": 4,
  "nbformat_minor": 4
}